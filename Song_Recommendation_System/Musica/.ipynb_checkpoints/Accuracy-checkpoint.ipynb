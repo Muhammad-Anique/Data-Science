{
 "cells": [
  {
   "cell_type": "code",
   "execution_count": 1,
   "id": "f92768f1",
   "metadata": {},
   "outputs": [],
   "source": [
    "import os\n",
    "import numpy as np\n",
    "import pandas as pd\n",
    "from sklearn.metrics.pairwise import cosine_similarity\n",
    "import seaborn as sns\n",
    "import plotly.express as px\n",
    "import matplotlib.pyplot as plt\n",
    "%matplotlib inline\n",
    "from sklearn.cluster import KMeans\n",
    "from sklearn.preprocessing import StandardScaler\n",
    "from sklearn.pipeline import Pipeline\n",
    "from sklearn.manifold import TSNE\n",
    "from sklearn.decomposition import PCA\n",
    "from sklearn.metrics import euclidean_distances\n",
    "from scipy.spatial.distance import cdist\n",
    "import warnings\n",
    "warnings.filterwarnings(\"ignore\")"
   ]
  },
  {
   "cell_type": "code",
   "execution_count": 2,
   "id": "e338b027",
   "metadata": {},
   "outputs": [],
   "source": [
    "songs  = pd.read_csv('songs_scaled.csv',index_col=0)"
   ]
  },
  {
   "cell_type": "code",
   "execution_count": 3,
   "id": "4ec659da",
   "metadata": {},
   "outputs": [],
   "source": [
    "def retrieve_rows(song_list, songs_df):\n",
    "    rows = []\n",
    "    for x in song_list:   \n",
    "        result = songs_df[songs_df['name'].str.contains(str(x), case=False, na=False)]\n",
    "        if not result.empty:\n",
    "            first_row = result.iloc[0]\n",
    "            rows.append(first_row)\n",
    "    new_df = pd.DataFrame(rows)\n",
    "    return new_df"
   ]
  },
  {
   "cell_type": "code",
   "execution_count": 10,
   "id": "f6404573",
   "metadata": {},
   "outputs": [],
   "source": [
    "def get_user_interest_vector(User_History,Ratings) :\n",
    "    weighted_row = np.zeros(1007)\n",
    "    for x in range(len(User_History)) :\n",
    "        row = (User_History.iloc[x,2:])\n",
    "        row = np.array(row)\n",
    "        weighted_row = weighted_row + row * Ratings[x]\n",
    "    User_Profile = np.array(weighted_row / np.sum(weighted_row))\n",
    "    return User_Profile"
   ]
  },
  {
   "cell_type": "code",
   "execution_count": 5,
   "id": "e1b8635d",
   "metadata": {},
   "outputs": [],
   "source": [
    "def get_pool_of_similar_songs(User_Interest,songs_df,pool_size) :\n",
    "    Matrix  =  songs_df.iloc[:,2:]\n",
    "    User_Interest = User_Interest.reshape(1,-1)\n",
    "    Utility  = Matrix * User_Interest\n",
    "    Sum_vector = np.sum(Utility, axis=1)\n",
    "    Resultant = songs.copy(deep=True)\n",
    "    Resultant['sum'] = Sum_vector\n",
    "    Resultant = Resultant.sort_values(by='sum', ascending=False)\n",
    "    return Resultant.iloc[:pool_size,]"
   ]
  },
  {
   "cell_type": "code",
   "execution_count": 6,
   "id": "8807136d",
   "metadata": {},
   "outputs": [],
   "source": [
    "def recommender(User_ratings):\n",
    "    Songs_l = User_ratings.iloc[:,0]\n",
    "    Ratings = User_ratings.iloc[:,1]\n",
    "    User_History = retrieve_rows(Songs_l,songs)\n",
    "    User_Interest_Vector = get_user_interest_vector(User_History,Ratings)\n",
    "    Songs_Pool = get_pool_of_similar_songs(User_Interest_Vector,songs,500)\n",
    "    Clean_Pool = Songs_Pool.drop_duplicates(subset='name', keep='first')\n",
    "    Clean_Pool.to_csv('Recommendations.csv')\n",
    "    top_Header = Clean_Pool['name']\n",
    "    Side_Header = User_History['name']\n",
    "    Sim = calculate_cosine_similarity(User_History.iloc[:,2:], Clean_Pool.iloc[:,2:-1])\n",
    "    cosine_similarity_df = pd.DataFrame(Sim, index=Side_Header, columns=top_Header)\n",
    "    cosine_similarity_df.to_csv('Cosine_Similarity.csv')\n",
    "    my_dict = {}  # Initialize an empty dictionary\n",
    "    N = 2\n",
    "    for col in range(cosine_similarity_df.shape[1]) :\n",
    "        column_name = cosine_similarity_df.columns[col]\n",
    "        Item_to_Item_cosine = cosine_similarity_df.iloc[:, col]  \n",
    "        Item_to_Item_cosine.head()\n",
    "        Item_to_Item_cosine = Item_to_Item_cosine.sort_values(ascending=False)\n",
    "        Predicted_Rating = 0\n",
    "        for x in range(N) :\n",
    "            result_row = cosine_similarity_df[cosine_similarity_df.iloc[:, col] == Item_to_Item_cosine[x]]\n",
    "            index = result_row.index[0]\n",
    "            Predicted_Rating = Predicted_Rating + get_rating(str(index), User_ratings) * Item_to_Item_cosine[x]\n",
    "            if x == N-1 : \n",
    "                my_dict[str(column_name)] = Predicted_Rating/N\n",
    "\n",
    "#     # Printing each key-value pair in a loop\n",
    "#     for key, value in my_dict.items():\n",
    "#         print(key,\"   \", value)\n",
    "    top_10_values = dict(sorted(my_dict.items(), key=lambda item: item[1], reverse=True)[:20])\n",
    "#     for key, value in top_10_values.items():\n",
    "#         print(f\"Key: {key}, Value: {value}\")\n",
    "    return top_10_values"
   ]
  },
  {
   "cell_type": "code",
   "execution_count": 7,
   "id": "26a1d57d",
   "metadata": {},
   "outputs": [],
   "source": [
    "def get_rating(song_name, ratings_df):\n",
    "    # Searching for substring matches in 'name' column\n",
    "    result = ratings_df[ratings_df['name'].str.contains(song_name, case=False)]\n",
    "    \n",
    "    if not result.empty:\n",
    "        # Retrieve the first rating if a match is found\n",
    "        rating = result.iloc[0]['Rating']\n",
    "        return rating\n",
    "    else:\n",
    "        return \"Song not found\"\n"
   ]
  },
  {
   "cell_type": "code",
   "execution_count": 8,
   "id": "f43eb183",
   "metadata": {},
   "outputs": [],
   "source": [
    "\n",
    "def calculate_cosine_similarity(user_history_df, song_pool_df):    \n",
    "    # Extracting values from DataFrames\n",
    "    user_history_values = user_history_df.values\n",
    "    song_pool_values = song_pool_df.values\n",
    "    \n",
    "    # Calculating cosine similarity matrix\n",
    "    similarity_matrix = cosine_similarity(user_history_values, song_pool_values)\n",
    "    \n",
    "    return similarity_matrix"
   ]
  },
  {
   "cell_type": "code",
   "execution_count": 25,
   "id": "b9714a03",
   "metadata": {},
   "outputs": [],
   "source": [
    "User_ratings = pd.DataFrame({\n",
    "    \"name\": [\"Pehli Nazar Mein\", \n",
    "           \"Doorie\",\n",
    "           \"Soch Na Sake\", \n",
    "           \"Suit Suit\", \n",
    "           \"Lagdi Lahore Di From Street Dancer 3D\", \n",
    "           \"Morni Banke From Badhaai Ho\"],\n",
    "    \"Rating\": [5,4,4,5,4,5],\n",
    "    \n",
    "})\n",
    "top_10_values = recommender(User_ratings)\n",
    "df = pd.DataFrame(list(top_10_values.items()), columns=['Key', 'Value'])\n"
   ]
  },
  {
   "cell_type": "code",
   "execution_count": 26,
   "id": "177de660",
   "metadata": {},
   "outputs": [
    {
     "data": {
      "text/html": [
       "<div>\n",
       "<style scoped>\n",
       "    .dataframe tbody tr th:only-of-type {\n",
       "        vertical-align: middle;\n",
       "    }\n",
       "\n",
       "    .dataframe tbody tr th {\n",
       "        vertical-align: top;\n",
       "    }\n",
       "\n",
       "    .dataframe thead th {\n",
       "        text-align: right;\n",
       "    }\n",
       "</style>\n",
       "<table border=\"1\" class=\"dataframe\">\n",
       "  <thead>\n",
       "    <tr style=\"text-align: right;\">\n",
       "      <th></th>\n",
       "      <th>Key</th>\n",
       "      <th>Value</th>\n",
       "    </tr>\n",
       "  </thead>\n",
       "  <tbody>\n",
       "    <tr>\n",
       "      <th>0</th>\n",
       "      <td>Morni Banke From Badhaai Ho</td>\n",
       "      <td>4.841528</td>\n",
       "    </tr>\n",
       "    <tr>\n",
       "      <th>1</th>\n",
       "      <td>Surma Surma</td>\n",
       "      <td>4.811860</td>\n",
       "    </tr>\n",
       "    <tr>\n",
       "      <th>2</th>\n",
       "      <td>Teri Choriyaan From Chhalaang</td>\n",
       "      <td>4.686898</td>\n",
       "    </tr>\n",
       "    <tr>\n",
       "      <th>3</th>\n",
       "      <td>Pehli Nazar Mein</td>\n",
       "      <td>4.431554</td>\n",
       "    </tr>\n",
       "    <tr>\n",
       "      <th>4</th>\n",
       "      <td>Doorie</td>\n",
       "      <td>4.414442</td>\n",
       "    </tr>\n",
       "    <tr>\n",
       "      <th>5</th>\n",
       "      <td>Tera Hone Laga Hoon</td>\n",
       "      <td>4.396085</td>\n",
       "    </tr>\n",
       "    <tr>\n",
       "      <th>6</th>\n",
       "      <td>Valentine Mashup 2019  DJ Notorious  Lijo George</td>\n",
       "      <td>4.383969</td>\n",
       "    </tr>\n",
       "    <tr>\n",
       "      <th>7</th>\n",
       "      <td>Be Intehaan</td>\n",
       "      <td>4.375791</td>\n",
       "    </tr>\n",
       "    <tr>\n",
       "      <th>8</th>\n",
       "      <td>Tu Jaane Na</td>\n",
       "      <td>4.369746</td>\n",
       "    </tr>\n",
       "    <tr>\n",
       "      <th>9</th>\n",
       "      <td>Valentine Mashup 2017 By DJ Notorious</td>\n",
       "      <td>4.352796</td>\n",
       "    </tr>\n",
       "    <tr>\n",
       "      <th>10</th>\n",
       "      <td>Dil Meri Na Sune</td>\n",
       "      <td>4.315250</td>\n",
       "    </tr>\n",
       "    <tr>\n",
       "      <th>11</th>\n",
       "      <td>Meri Kahani</td>\n",
       "      <td>4.311603</td>\n",
       "    </tr>\n",
       "    <tr>\n",
       "      <th>12</th>\n",
       "      <td>Main Rang Sharbaton Ka</td>\n",
       "      <td>4.281338</td>\n",
       "    </tr>\n",
       "    <tr>\n",
       "      <th>13</th>\n",
       "      <td>Lagdi Lahore Di From Street Dancer 3D</td>\n",
       "      <td>4.155391</td>\n",
       "    </tr>\n",
       "    <tr>\n",
       "      <th>14</th>\n",
       "      <td>Outfit</td>\n",
       "      <td>4.154170</td>\n",
       "    </tr>\n",
       "    <tr>\n",
       "      <th>15</th>\n",
       "      <td>Tere Te</td>\n",
       "      <td>4.127258</td>\n",
       "    </tr>\n",
       "    <tr>\n",
       "      <th>16</th>\n",
       "      <td>High Heels Te Nachche 52 Non StopRemix By Kedr...</td>\n",
       "      <td>4.069599</td>\n",
       "    </tr>\n",
       "    <tr>\n",
       "      <th>17</th>\n",
       "      <td>Punjabi Mashup</td>\n",
       "      <td>4.068003</td>\n",
       "    </tr>\n",
       "    <tr>\n",
       "      <th>18</th>\n",
       "      <td>Slowly Slowly</td>\n",
       "      <td>4.020845</td>\n",
       "    </tr>\n",
       "    <tr>\n",
       "      <th>19</th>\n",
       "      <td>Tera Fitoor</td>\n",
       "      <td>3.980046</td>\n",
       "    </tr>\n",
       "  </tbody>\n",
       "</table>\n",
       "</div>"
      ],
      "text/plain": [
       "                                                  Key     Value\n",
       "0                         Morni Banke From Badhaai Ho  4.841528\n",
       "1                                         Surma Surma  4.811860\n",
       "2                       Teri Choriyaan From Chhalaang  4.686898\n",
       "3                                    Pehli Nazar Mein  4.431554\n",
       "4                                              Doorie  4.414442\n",
       "5                                 Tera Hone Laga Hoon  4.396085\n",
       "6    Valentine Mashup 2019  DJ Notorious  Lijo George  4.383969\n",
       "7                                         Be Intehaan  4.375791\n",
       "8                                         Tu Jaane Na  4.369746\n",
       "9               Valentine Mashup 2017 By DJ Notorious  4.352796\n",
       "10                                   Dil Meri Na Sune  4.315250\n",
       "11                                        Meri Kahani  4.311603\n",
       "12                             Main Rang Sharbaton Ka  4.281338\n",
       "13              Lagdi Lahore Di From Street Dancer 3D  4.155391\n",
       "14                                             Outfit  4.154170\n",
       "15                                            Tere Te  4.127258\n",
       "16  High Heels Te Nachche 52 Non StopRemix By Kedr...  4.069599\n",
       "17                                     Punjabi Mashup  4.068003\n",
       "18                                      Slowly Slowly  4.020845\n",
       "19                                        Tera Fitoor  3.980046"
      ]
     },
     "execution_count": 26,
     "metadata": {},
     "output_type": "execute_result"
    }
   ],
   "source": [
    "df.head(20)"
   ]
  },
  {
   "cell_type": "code",
   "execution_count": 19,
   "id": "5b995e54",
   "metadata": {},
   "outputs": [
    {
     "data": {
      "text/html": [
       "<div>\n",
       "<style scoped>\n",
       "    .dataframe tbody tr th:only-of-type {\n",
       "        vertical-align: middle;\n",
       "    }\n",
       "\n",
       "    .dataframe tbody tr th {\n",
       "        vertical-align: top;\n",
       "    }\n",
       "\n",
       "    .dataframe thead th {\n",
       "        text-align: right;\n",
       "    }\n",
       "</style>\n",
       "<table border=\"1\" class=\"dataframe\">\n",
       "  <thead>\n",
       "    <tr style=\"text-align: right;\">\n",
       "      <th></th>\n",
       "      <th>name</th>\n",
       "      <th>Rating</th>\n",
       "    </tr>\n",
       "  </thead>\n",
       "  <tbody>\n",
       "    <tr>\n",
       "      <th>0</th>\n",
       "      <td>Pehli Nazar Mein</td>\n",
       "      <td>3</td>\n",
       "    </tr>\n",
       "    <tr>\n",
       "      <th>1</th>\n",
       "      <td>Tera Hone Laga Hoon</td>\n",
       "      <td>2</td>\n",
       "    </tr>\n",
       "    <tr>\n",
       "      <th>2</th>\n",
       "      <td>Suit Suit</td>\n",
       "      <td>5</td>\n",
       "    </tr>\n",
       "    <tr>\n",
       "      <th>3</th>\n",
       "      <td>Lagdi Lahore Di From Street Dancer 3D</td>\n",
       "      <td>5</td>\n",
       "    </tr>\n",
       "  </tbody>\n",
       "</table>\n",
       "</div>"
      ],
      "text/plain": [
       "                                    name  Rating\n",
       "0                       Pehli Nazar Mein       3\n",
       "1                    Tera Hone Laga Hoon       2\n",
       "2                              Suit Suit       5\n",
       "3  Lagdi Lahore Di From Street Dancer 3D       5"
      ]
     },
     "execution_count": 19,
     "metadata": {},
     "output_type": "execute_result"
    }
   ],
   "source": [
    "User_ratings.head()"
   ]
  },
  {
   "cell_type": "code",
   "execution_count": 33,
   "id": "06d72133",
   "metadata": {},
   "outputs": [],
   "source": [
    "Actual = pd.DataFrame({\n",
    "    \"Key\": [\"Slowly Slowly\",\"Tera Hone Laga Hoon\", \"Lagdi Lahore Di From Street Dancer 3D\", \"Dil Meri Na Sune\"],\n",
    "    \"Value_\": [3.8, 5, 4, 5],\n",
    "})\n",
    "\n"
   ]
  },
  {
   "cell_type": "code",
   "execution_count": 35,
   "id": "5e944933",
   "metadata": {},
   "outputs": [
    {
     "name": "stdout",
     "output_type": "stream",
     "text": [
      "                                     Key     Value  Value_\n",
      "0                    Tera Hone Laga Hoon  4.396085     5.0\n",
      "1                       Dil Meri Na Sune  4.315250     5.0\n",
      "2  Lagdi Lahore Di From Street Dancer 3D  4.155391     4.0\n",
      "3                          Slowly Slowly  4.020845     3.8\n"
     ]
    }
   ],
   "source": [
    "# Performing the merge/join operation\n",
    "merged= pd.merge(df, Actual, on='Key', how='inner')  # Change 'how' to fit your merge type\n",
    "\n",
    "print(merged)"
   ]
  },
  {
   "cell_type": "code",
   "execution_count": 41,
   "id": "e7cb0d47",
   "metadata": {},
   "outputs": [
    {
     "name": "stdout",
     "output_type": "stream",
     "text": [
      "RMSE: 0.4760554175013279\n"
     ]
    }
   ],
   "source": [
    "import pandas as pd\n",
    "import numpy as np\n",
    "from sklearn.metrics import mean_squared_error, mean_absolute_error\n",
    "\n",
    "# Assuming you have a merged dataframe 'merged' with 'Value' as predicted values and 'Value_' as actual values\n",
    "\n",
    "# Compute RMSE\n",
    "rmse = np.sqrt(mean_squared_error(merged['Value_'], merged['Value']))\n",
    "print(f\"RMSE: {rmse}\")\n"
   ]
  },
  {
   "cell_type": "code",
   "execution_count": 42,
   "id": "87f375d0",
   "metadata": {},
   "outputs": [
    {
     "name": "stdout",
     "output_type": "stream",
     "text": [
      "MAE: 0.416225379570067\n"
     ]
    }
   ],
   "source": [
    "# Compute MAE\n",
    "mae = mean_absolute_error(merged['Value_'], merged['Value'])\n",
    "\n",
    "\n",
    "\n",
    "\n",
    "print(f\"MAE: {mae}\")\n"
   ]
  },
  {
   "cell_type": "code",
   "execution_count": 43,
   "id": "426b8835",
   "metadata": {},
   "outputs": [
    {
     "name": "stdout",
     "output_type": "stream",
     "text": [
      "R² score: 0.2629959007077607\n"
     ]
    }
   ],
   "source": [
    "from sklearn.metrics import r2_score\n",
    "\n",
    "# Assuming 'merged' contains 'Value' as predicted values and 'Value_' as actual values\n",
    "\n",
    "# Compute R² score\n",
    "r2 = r2_score(merged['Value_'], merged['Value'])\n",
    "\n",
    "print(f\"R² score: {r2}\")\n"
   ]
  },
  {
   "cell_type": "code",
   "execution_count": null,
   "id": "676dbbc7",
   "metadata": {},
   "outputs": [],
   "source": []
  }
 ],
 "metadata": {
  "kernelspec": {
   "display_name": "Python 3 (ipykernel)",
   "language": "python",
   "name": "python3"
  },
  "language_info": {
   "codemirror_mode": {
    "name": "ipython",
    "version": 3
   },
   "file_extension": ".py",
   "mimetype": "text/x-python",
   "name": "python",
   "nbconvert_exporter": "python",
   "pygments_lexer": "ipython3",
   "version": "3.10.9"
  }
 },
 "nbformat": 4,
 "nbformat_minor": 5
}
